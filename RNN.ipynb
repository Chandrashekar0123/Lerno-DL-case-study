{
  "nbformat": 4,
  "nbformat_minor": 0,
  "metadata": {
    "colab": {
      "provenance": [],
      "authorship_tag": "ABX9TyO733/cuD6ylEE83/3pnj71",
      "include_colab_link": true
    },
    "kernelspec": {
      "name": "python3",
      "display_name": "Python 3"
    },
    "language_info": {
      "name": "python"
    }
  },
  "cells": [
    {
      "cell_type": "markdown",
      "metadata": {
        "id": "view-in-github",
        "colab_type": "text"
      },
      "source": [
        "<a href=\"https://colab.research.google.com/github/Chandrashekar0123/Lerno-DL-case-study/blob/DeepLearning-Models/RNN.ipynb\" target=\"_parent\"><img src=\"https://colab.research.google.com/assets/colab-badge.svg\" alt=\"Open In Colab\"/></a>"
      ]
    },
    {
      "cell_type": "code",
      "execution_count": null,
      "metadata": {
        "id": "dNkFfec2bh5m"
      },
      "outputs": [],
      "source": [
        "import numpy as np\n",
        "import tensorflow as tf\n",
        "from tensorflow.keras.preprocessing.text import Tokenizer\n",
        "from tensorflow.keras.models import Sequential\n",
        "from tensorflow.keras.layers import Embedding, SimpleRNN, Dense\n",
        "from tensorflow.keras.utils import to_categorical\n"
      ]
    },
    {
      "cell_type": "code",
      "source": [
        "# Sample text\n",
        "text = \"This is a sample text for language modeling. We'll use it to train an RNN.\"\n"
      ],
      "metadata": {
        "id": "TR87yr8TcTqm"
      },
      "execution_count": null,
      "outputs": []
    },
    {
      "cell_type": "code",
      "source": [
        "# Create a mapping of unique characters to integers\n",
        "chars = sorted(list(set(text)))\n",
        "char_to_idx = {char: idx for idx, char in enumerate(chars)}\n",
        "idx_to_char = {idx: char for char, idx in char_to_idx.items()}\n"
      ],
      "metadata": {
        "id": "rJ6b0c8gcuvP"
      },
      "execution_count": null,
      "outputs": []
    },
    {
      "cell_type": "code",
      "source": [
        "chars"
      ],
      "metadata": {
        "colab": {
          "base_uri": "https://localhost:8080/"
        },
        "id": "pW7CgdjVdUom",
        "outputId": "cd6b591d-c94a-4d9d-aa23-2ce1d8997407"
      },
      "execution_count": null,
      "outputs": [
        {
          "output_type": "execute_result",
          "data": {
            "text/plain": [
              "[' ',\n",
              " \"'\",\n",
              " '.',\n",
              " 'N',\n",
              " 'R',\n",
              " 'T',\n",
              " 'W',\n",
              " 'a',\n",
              " 'd',\n",
              " 'e',\n",
              " 'f',\n",
              " 'g',\n",
              " 'h',\n",
              " 'i',\n",
              " 'l',\n",
              " 'm',\n",
              " 'n',\n",
              " 'o',\n",
              " 'p',\n",
              " 'r',\n",
              " 's',\n",
              " 't',\n",
              " 'u',\n",
              " 'x']"
            ]
          },
          "metadata": {},
          "execution_count": 7
        }
      ]
    },
    {
      "cell_type": "code",
      "source": [
        "# Convert text to integer sequences\n",
        "sequences = [char_to_idx[char] for char in text]\n"
      ],
      "metadata": {
        "id": "VdzD5dS_dCAd"
      },
      "execution_count": null,
      "outputs": []
    },
    {
      "cell_type": "code",
      "source": [
        "sequences"
      ],
      "metadata": {
        "colab": {
          "base_uri": "https://localhost:8080/"
        },
        "id": "zJyb95h_dNrX",
        "outputId": "c5ccdde1-f836-43a5-b7d6-7d554fd2552d"
      },
      "execution_count": null,
      "outputs": [
        {
          "output_type": "execute_result",
          "data": {
            "text/plain": [
              "[5,\n",
              " 12,\n",
              " 13,\n",
              " 20,\n",
              " 0,\n",
              " 13,\n",
              " 20,\n",
              " 0,\n",
              " 7,\n",
              " 0,\n",
              " 20,\n",
              " 7,\n",
              " 15,\n",
              " 18,\n",
              " 14,\n",
              " 9,\n",
              " 0,\n",
              " 21,\n",
              " 9,\n",
              " 23,\n",
              " 21,\n",
              " 0,\n",
              " 10,\n",
              " 17,\n",
              " 19,\n",
              " 0,\n",
              " 14,\n",
              " 7,\n",
              " 16,\n",
              " 11,\n",
              " 22,\n",
              " 7,\n",
              " 11,\n",
              " 9,\n",
              " 0,\n",
              " 15,\n",
              " 17,\n",
              " 8,\n",
              " 9,\n",
              " 14,\n",
              " 13,\n",
              " 16,\n",
              " 11,\n",
              " 2,\n",
              " 0,\n",
              " 6,\n",
              " 9,\n",
              " 1,\n",
              " 14,\n",
              " 14,\n",
              " 0,\n",
              " 22,\n",
              " 20,\n",
              " 9,\n",
              " 0,\n",
              " 13,\n",
              " 21,\n",
              " 0,\n",
              " 21,\n",
              " 17,\n",
              " 0,\n",
              " 21,\n",
              " 19,\n",
              " 7,\n",
              " 13,\n",
              " 16,\n",
              " 0,\n",
              " 7,\n",
              " 16,\n",
              " 0,\n",
              " 4,\n",
              " 3,\n",
              " 3,\n",
              " 2]"
            ]
          },
          "metadata": {},
          "execution_count": 6
        }
      ]
    },
    {
      "cell_type": "code",
      "source": [
        "idx_to_char"
      ],
      "metadata": {
        "colab": {
          "base_uri": "https://localhost:8080/"
        },
        "id": "bD6qprLrdn1l",
        "outputId": "9da89f3c-998e-47b2-f44c-e018bd146ec4"
      },
      "execution_count": null,
      "outputs": [
        {
          "output_type": "execute_result",
          "data": {
            "text/plain": [
              "{0: ' ',\n",
              " 1: \"'\",\n",
              " 2: '.',\n",
              " 3: 'N',\n",
              " 4: 'R',\n",
              " 5: 'T',\n",
              " 6: 'W',\n",
              " 7: 'a',\n",
              " 8: 'd',\n",
              " 9: 'e',\n",
              " 10: 'f',\n",
              " 11: 'g',\n",
              " 12: 'h',\n",
              " 13: 'i',\n",
              " 14: 'l',\n",
              " 15: 'm',\n",
              " 16: 'n',\n",
              " 17: 'o',\n",
              " 18: 'p',\n",
              " 19: 'r',\n",
              " 20: 's',\n",
              " 21: 't',\n",
              " 22: 'u',\n",
              " 23: 'x'}"
            ]
          },
          "metadata": {},
          "execution_count": 9
        }
      ]
    },
    {
      "cell_type": "code",
      "source": [
        "char_to_idx"
      ],
      "metadata": {
        "colab": {
          "base_uri": "https://localhost:8080/"
        },
        "id": "f2NJUY4ddi9t",
        "outputId": "2a26f416-cc61-4e44-e0ac-82ff9242e2c2"
      },
      "execution_count": null,
      "outputs": [
        {
          "output_type": "execute_result",
          "data": {
            "text/plain": [
              "{' ': 0,\n",
              " \"'\": 1,\n",
              " '.': 2,\n",
              " 'N': 3,\n",
              " 'R': 4,\n",
              " 'T': 5,\n",
              " 'W': 6,\n",
              " 'a': 7,\n",
              " 'd': 8,\n",
              " 'e': 9,\n",
              " 'f': 10,\n",
              " 'g': 11,\n",
              " 'h': 12,\n",
              " 'i': 13,\n",
              " 'l': 14,\n",
              " 'm': 15,\n",
              " 'n': 16,\n",
              " 'o': 17,\n",
              " 'p': 18,\n",
              " 'r': 19,\n",
              " 's': 20,\n",
              " 't': 21,\n",
              " 'u': 22,\n",
              " 'x': 23}"
            ]
          },
          "metadata": {},
          "execution_count": 8
        }
      ]
    },
    {
      "cell_type": "code",
      "source": [
        "# Parameters\n",
        "sequence_length = 10 # You can change this value\n",
        "chars=sorted(list(set(text)))\n",
        "vocab_size = len(chars)\n"
      ],
      "metadata": {
        "id": "SopK4yOKdC6O"
      },
      "execution_count": null,
      "outputs": []
    },
    {
      "cell_type": "code",
      "source": [
        "vocab_size"
      ],
      "metadata": {
        "colab": {
          "base_uri": "https://localhost:8080/"
        },
        "id": "r7nrmwPbdL42",
        "outputId": "52fd2363-f968-424d-93ca-014c5e2678e3"
      },
      "execution_count": null,
      "outputs": [
        {
          "output_type": "execute_result",
          "data": {
            "text/plain": [
              "24"
            ]
          },
          "metadata": {},
          "execution_count": 10
        }
      ]
    },
    {
      "cell_type": "code",
      "source": [
        "#We'll create sequences of 10 characters and have the model predict the next character.\n",
        "# Prepare input/output pairs\n",
        "X = []\n",
        "y = []\n",
        "for i in range(0, len(sequences) - sequence_length):\n",
        "  X.append(sequences[i:i+sequence_length])\n",
        "  y.append(sequences[i+sequence_length])\n",
        "X = np.array(X)\n",
        "y = np.array(y)\n"
      ],
      "metadata": {
        "id": "PWWKfeZHef9W"
      },
      "execution_count": null,
      "outputs": []
    },
    {
      "cell_type": "code",
      "source": [
        "i"
      ],
      "metadata": {
        "colab": {
          "base_uri": "https://localhost:8080/"
        },
        "id": "zHEo1SVLfgE-",
        "outputId": "2ed0cd1c-cb74-4967-9fa8-268823705b93"
      },
      "execution_count": null,
      "outputs": [
        {
          "output_type": "execute_result",
          "data": {
            "text/plain": [
              "63"
            ]
          },
          "metadata": {},
          "execution_count": 16
        }
      ]
    },
    {
      "cell_type": "code",
      "source": [
        "X"
      ],
      "metadata": {
        "colab": {
          "base_uri": "https://localhost:8080/"
        },
        "id": "HEstPhiKeo9X",
        "outputId": "39d9c0cc-eca0-45a9-a222-7385fbc186ad"
      },
      "execution_count": null,
      "outputs": [
        {
          "output_type": "execute_result",
          "data": {
            "text/plain": [
              "array([[ 5, 12, 13, 20,  0, 13, 20,  0,  7,  0],\n",
              "       [12, 13, 20,  0, 13, 20,  0,  7,  0, 20],\n",
              "       [13, 20,  0, 13, 20,  0,  7,  0, 20,  7],\n",
              "       [20,  0, 13, 20,  0,  7,  0, 20,  7, 15],\n",
              "       [ 0, 13, 20,  0,  7,  0, 20,  7, 15, 18],\n",
              "       [13, 20,  0,  7,  0, 20,  7, 15, 18, 14],\n",
              "       [20,  0,  7,  0, 20,  7, 15, 18, 14,  9],\n",
              "       [ 0,  7,  0, 20,  7, 15, 18, 14,  9,  0],\n",
              "       [ 7,  0, 20,  7, 15, 18, 14,  9,  0, 21],\n",
              "       [ 0, 20,  7, 15, 18, 14,  9,  0, 21,  9],\n",
              "       [20,  7, 15, 18, 14,  9,  0, 21,  9, 23],\n",
              "       [ 7, 15, 18, 14,  9,  0, 21,  9, 23, 21],\n",
              "       [15, 18, 14,  9,  0, 21,  9, 23, 21,  0],\n",
              "       [18, 14,  9,  0, 21,  9, 23, 21,  0, 10],\n",
              "       [14,  9,  0, 21,  9, 23, 21,  0, 10, 17],\n",
              "       [ 9,  0, 21,  9, 23, 21,  0, 10, 17, 19],\n",
              "       [ 0, 21,  9, 23, 21,  0, 10, 17, 19,  0],\n",
              "       [21,  9, 23, 21,  0, 10, 17, 19,  0, 14],\n",
              "       [ 9, 23, 21,  0, 10, 17, 19,  0, 14,  7],\n",
              "       [23, 21,  0, 10, 17, 19,  0, 14,  7, 16],\n",
              "       [21,  0, 10, 17, 19,  0, 14,  7, 16, 11],\n",
              "       [ 0, 10, 17, 19,  0, 14,  7, 16, 11, 22],\n",
              "       [10, 17, 19,  0, 14,  7, 16, 11, 22,  7],\n",
              "       [17, 19,  0, 14,  7, 16, 11, 22,  7, 11],\n",
              "       [19,  0, 14,  7, 16, 11, 22,  7, 11,  9],\n",
              "       [ 0, 14,  7, 16, 11, 22,  7, 11,  9,  0],\n",
              "       [14,  7, 16, 11, 22,  7, 11,  9,  0, 15],\n",
              "       [ 7, 16, 11, 22,  7, 11,  9,  0, 15, 17],\n",
              "       [16, 11, 22,  7, 11,  9,  0, 15, 17,  8],\n",
              "       [11, 22,  7, 11,  9,  0, 15, 17,  8,  9],\n",
              "       [22,  7, 11,  9,  0, 15, 17,  8,  9, 14],\n",
              "       [ 7, 11,  9,  0, 15, 17,  8,  9, 14, 13],\n",
              "       [11,  9,  0, 15, 17,  8,  9, 14, 13, 16],\n",
              "       [ 9,  0, 15, 17,  8,  9, 14, 13, 16, 11],\n",
              "       [ 0, 15, 17,  8,  9, 14, 13, 16, 11,  2],\n",
              "       [15, 17,  8,  9, 14, 13, 16, 11,  2,  0],\n",
              "       [17,  8,  9, 14, 13, 16, 11,  2,  0,  6],\n",
              "       [ 8,  9, 14, 13, 16, 11,  2,  0,  6,  9],\n",
              "       [ 9, 14, 13, 16, 11,  2,  0,  6,  9,  1],\n",
              "       [14, 13, 16, 11,  2,  0,  6,  9,  1, 14],\n",
              "       [13, 16, 11,  2,  0,  6,  9,  1, 14, 14],\n",
              "       [16, 11,  2,  0,  6,  9,  1, 14, 14,  0],\n",
              "       [11,  2,  0,  6,  9,  1, 14, 14,  0, 22],\n",
              "       [ 2,  0,  6,  9,  1, 14, 14,  0, 22, 20],\n",
              "       [ 0,  6,  9,  1, 14, 14,  0, 22, 20,  9],\n",
              "       [ 6,  9,  1, 14, 14,  0, 22, 20,  9,  0],\n",
              "       [ 9,  1, 14, 14,  0, 22, 20,  9,  0, 13],\n",
              "       [ 1, 14, 14,  0, 22, 20,  9,  0, 13, 21],\n",
              "       [14, 14,  0, 22, 20,  9,  0, 13, 21,  0],\n",
              "       [14,  0, 22, 20,  9,  0, 13, 21,  0, 21],\n",
              "       [ 0, 22, 20,  9,  0, 13, 21,  0, 21, 17],\n",
              "       [22, 20,  9,  0, 13, 21,  0, 21, 17,  0],\n",
              "       [20,  9,  0, 13, 21,  0, 21, 17,  0, 21],\n",
              "       [ 9,  0, 13, 21,  0, 21, 17,  0, 21, 19],\n",
              "       [ 0, 13, 21,  0, 21, 17,  0, 21, 19,  7],\n",
              "       [13, 21,  0, 21, 17,  0, 21, 19,  7, 13],\n",
              "       [21,  0, 21, 17,  0, 21, 19,  7, 13, 16],\n",
              "       [ 0, 21, 17,  0, 21, 19,  7, 13, 16,  0],\n",
              "       [21, 17,  0, 21, 19,  7, 13, 16,  0,  7],\n",
              "       [17,  0, 21, 19,  7, 13, 16,  0,  7, 16],\n",
              "       [ 0, 21, 19,  7, 13, 16,  0,  7, 16,  0],\n",
              "       [21, 19,  7, 13, 16,  0,  7, 16,  0,  4],\n",
              "       [19,  7, 13, 16,  0,  7, 16,  0,  4,  3],\n",
              "       [ 7, 13, 16,  0,  7, 16,  0,  4,  3,  3]])"
            ]
          },
          "metadata": {},
          "execution_count": 14
        }
      ]
    },
    {
      "cell_type": "code",
      "source": [
        "y"
      ],
      "metadata": {
        "colab": {
          "base_uri": "https://localhost:8080/"
        },
        "id": "bfUCwy_Sevhn",
        "outputId": "e0ab0e46-c7c2-46b9-d33e-be817ac8bd67"
      },
      "execution_count": null,
      "outputs": [
        {
          "output_type": "execute_result",
          "data": {
            "text/plain": [
              "array([20,  7, 15, 18, 14,  9,  0, 21,  9, 23, 21,  0, 10, 17, 19,  0, 14,\n",
              "        7, 16, 11, 22,  7, 11,  9,  0, 15, 17,  8,  9, 14, 13, 16, 11,  2,\n",
              "        0,  6,  9,  1, 14, 14,  0, 22, 20,  9,  0, 13, 21,  0, 21, 17,  0,\n",
              "       21, 19,  7, 13, 16,  0,  7, 16,  0,  4,  3,  3,  2])"
            ]
          },
          "metadata": {},
          "execution_count": 15
        }
      ]
    },
    {
      "cell_type": "code",
      "source": [
        "# One-hot encode the target (y)\n",
        "y = to_categorical(y, num_classes=vocab_size)\n"
      ],
      "metadata": {
        "id": "I1diUYnEewc-"
      },
      "execution_count": null,
      "outputs": []
    },
    {
      "cell_type": "code",
      "source": [
        "y"
      ],
      "metadata": {
        "colab": {
          "base_uri": "https://localhost:8080/"
        },
        "id": "-uTuUH38fnf0",
        "outputId": "06e11d3f-a21d-46fd-b341-1cb6cac5745d"
      },
      "execution_count": null,
      "outputs": [
        {
          "output_type": "execute_result",
          "data": {
            "text/plain": [
              "array([[0., 0., 0., ..., 0., 0., 0.],\n",
              "       [0., 0., 0., ..., 0., 0., 0.],\n",
              "       [0., 0., 0., ..., 0., 0., 0.],\n",
              "       ...,\n",
              "       [0., 0., 0., ..., 0., 0., 0.],\n",
              "       [0., 0., 0., ..., 0., 0., 0.],\n",
              "       [0., 0., 1., ..., 0., 0., 0.]])"
            ]
          },
          "metadata": {},
          "execution_count": 18
        }
      ]
    },
    {
      "cell_type": "code",
      "source": [
        "# Build the RNN model\n",
        "model = Sequential()\n",
        "model.add(Embedding(input_dim=vocab_size, output_dim=64, input_length=sequence_length))\n",
        "model.add(SimpleRNN(128, return_sequences=False))\n",
        "model.add(Dense(vocab_size, activation='softmax'))\n"
      ],
      "metadata": {
        "colab": {
          "base_uri": "https://localhost:8080/"
        },
        "id": "FYtxLe_rfoxs",
        "outputId": "b0f93cd9-4506-40f3-d09f-16286bfe2fe0"
      },
      "execution_count": null,
      "outputs": [
        {
          "output_type": "stream",
          "name": "stderr",
          "text": [
            "/usr/local/lib/python3.10/dist-packages/keras/src/layers/core/embedding.py:90: UserWarning: Argument `input_length` is deprecated. Just remove it.\n",
            "  warnings.warn(\n"
          ]
        }
      ]
    },
    {
      "cell_type": "code",
      "source": [
        "# Model summary\n",
        "model.summary()\n"
      ],
      "metadata": {
        "colab": {
          "base_uri": "https://localhost:8080/",
          "height": 236
        },
        "id": "YbJY-dRygEQd",
        "outputId": "1aa087eb-a424-49d5-a9d1-dfcafb7a9a80"
      },
      "execution_count": null,
      "outputs": [
        {
          "output_type": "display_data",
          "data": {
            "text/plain": [
              "\u001b[1mModel: \"sequential\"\u001b[0m\n"
            ],
            "text/html": [
              "<pre style=\"white-space:pre;overflow-x:auto;line-height:normal;font-family:Menlo,'DejaVu Sans Mono',consolas,'Courier New',monospace\"><span style=\"font-weight: bold\">Model: \"sequential\"</span>\n",
              "</pre>\n"
            ]
          },
          "metadata": {}
        },
        {
          "output_type": "display_data",
          "data": {
            "text/plain": [
              "┏━━━━━━━━━━━━━━━━━━━━━━━━━━━━━━━━━━━━━━┳━━━━━━━━━━━━━━━━━━━━━━━━━━━━━┳━━━━━━━━━━━━━━━━━┓\n",
              "┃\u001b[1m \u001b[0m\u001b[1mLayer (type)                        \u001b[0m\u001b[1m \u001b[0m┃\u001b[1m \u001b[0m\u001b[1mOutput Shape               \u001b[0m\u001b[1m \u001b[0m┃\u001b[1m \u001b[0m\u001b[1m        Param #\u001b[0m\u001b[1m \u001b[0m┃\n",
              "┡━━━━━━━━━━━━━━━━━━━━━━━━━━━━━━━━━━━━━━╇━━━━━━━━━━━━━━━━━━━━━━━━━━━━━╇━━━━━━━━━━━━━━━━━┩\n",
              "│ embedding (\u001b[38;5;33mEmbedding\u001b[0m)                │ ?                           │     \u001b[38;5;34m0\u001b[0m (unbuilt) │\n",
              "├──────────────────────────────────────┼─────────────────────────────┼─────────────────┤\n",
              "│ simple_rnn (\u001b[38;5;33mSimpleRNN\u001b[0m)               │ ?                           │     \u001b[38;5;34m0\u001b[0m (unbuilt) │\n",
              "├──────────────────────────────────────┼─────────────────────────────┼─────────────────┤\n",
              "│ dense (\u001b[38;5;33mDense\u001b[0m)                        │ ?                           │     \u001b[38;5;34m0\u001b[0m (unbuilt) │\n",
              "└──────────────────────────────────────┴─────────────────────────────┴─────────────────┘\n"
            ],
            "text/html": [
              "<pre style=\"white-space:pre;overflow-x:auto;line-height:normal;font-family:Menlo,'DejaVu Sans Mono',consolas,'Courier New',monospace\">┏━━━━━━━━━━━━━━━━━━━━━━━━━━━━━━━━━━━━━━┳━━━━━━━━━━━━━━━━━━━━━━━━━━━━━┳━━━━━━━━━━━━━━━━━┓\n",
              "┃<span style=\"font-weight: bold\"> Layer (type)                         </span>┃<span style=\"font-weight: bold\"> Output Shape                </span>┃<span style=\"font-weight: bold\">         Param # </span>┃\n",
              "┡━━━━━━━━━━━━━━━━━━━━━━━━━━━━━━━━━━━━━━╇━━━━━━━━━━━━━━━━━━━━━━━━━━━━━╇━━━━━━━━━━━━━━━━━┩\n",
              "│ embedding (<span style=\"color: #0087ff; text-decoration-color: #0087ff\">Embedding</span>)                │ ?                           │     <span style=\"color: #00af00; text-decoration-color: #00af00\">0</span> (unbuilt) │\n",
              "├──────────────────────────────────────┼─────────────────────────────┼─────────────────┤\n",
              "│ simple_rnn (<span style=\"color: #0087ff; text-decoration-color: #0087ff\">SimpleRNN</span>)               │ ?                           │     <span style=\"color: #00af00; text-decoration-color: #00af00\">0</span> (unbuilt) │\n",
              "├──────────────────────────────────────┼─────────────────────────────┼─────────────────┤\n",
              "│ dense (<span style=\"color: #0087ff; text-decoration-color: #0087ff\">Dense</span>)                        │ ?                           │     <span style=\"color: #00af00; text-decoration-color: #00af00\">0</span> (unbuilt) │\n",
              "└──────────────────────────────────────┴─────────────────────────────┴─────────────────┘\n",
              "</pre>\n"
            ]
          },
          "metadata": {}
        },
        {
          "output_type": "display_data",
          "data": {
            "text/plain": [
              "\u001b[1m Total params: \u001b[0m\u001b[38;5;34m0\u001b[0m (0.00 B)\n"
            ],
            "text/html": [
              "<pre style=\"white-space:pre;overflow-x:auto;line-height:normal;font-family:Menlo,'DejaVu Sans Mono',consolas,'Courier New',monospace\"><span style=\"font-weight: bold\"> Total params: </span><span style=\"color: #00af00; text-decoration-color: #00af00\">0</span> (0.00 B)\n",
              "</pre>\n"
            ]
          },
          "metadata": {}
        },
        {
          "output_type": "display_data",
          "data": {
            "text/plain": [
              "\u001b[1m Trainable params: \u001b[0m\u001b[38;5;34m0\u001b[0m (0.00 B)\n"
            ],
            "text/html": [
              "<pre style=\"white-space:pre;overflow-x:auto;line-height:normal;font-family:Menlo,'DejaVu Sans Mono',consolas,'Courier New',monospace\"><span style=\"font-weight: bold\"> Trainable params: </span><span style=\"color: #00af00; text-decoration-color: #00af00\">0</span> (0.00 B)\n",
              "</pre>\n"
            ]
          },
          "metadata": {}
        },
        {
          "output_type": "display_data",
          "data": {
            "text/plain": [
              "\u001b[1m Non-trainable params: \u001b[0m\u001b[38;5;34m0\u001b[0m (0.00 B)\n"
            ],
            "text/html": [
              "<pre style=\"white-space:pre;overflow-x:auto;line-height:normal;font-family:Menlo,'DejaVu Sans Mono',consolas,'Courier New',monospace\"><span style=\"font-weight: bold\"> Non-trainable params: </span><span style=\"color: #00af00; text-decoration-color: #00af00\">0</span> (0.00 B)\n",
              "</pre>\n"
            ]
          },
          "metadata": {}
        }
      ]
    },
    {
      "cell_type": "code",
      "source": [
        "# Compile the model\n",
        "model.compile(loss='categorical_crossentropy', optimizer='adam', metrics=['accuracy'])\n"
      ],
      "metadata": {
        "id": "CRZa5SCkgL5G"
      },
      "execution_count": null,
      "outputs": []
    },
    {
      "cell_type": "code",
      "source": [
        "# Train the model\n",
        "model.fit(X, y, batch_size=64, epochs=50)\n"
      ],
      "metadata": {
        "colab": {
          "base_uri": "https://localhost:8080/"
        },
        "id": "2U0Zf5fWgqld",
        "outputId": "310895ba-9137-4576-af56-8060cfb1eb34"
      },
      "execution_count": null,
      "outputs": [
        {
          "output_type": "stream",
          "name": "stdout",
          "text": [
            "Epoch 1/50\n",
            "\u001b[1m1/1\u001b[0m \u001b[32m━━━━━━━━━━━━━━━━━━━━\u001b[0m\u001b[37m\u001b[0m \u001b[1m2s\u001b[0m 2s/step - accuracy: 0.0938 - loss: 3.1713\n",
            "Epoch 2/50\n",
            "\u001b[1m1/1\u001b[0m \u001b[32m━━━━━━━━━━━━━━━━━━━━\u001b[0m\u001b[37m\u001b[0m \u001b[1m0s\u001b[0m 179ms/step - accuracy: 0.2031 - loss: 3.1097\n",
            "Epoch 3/50\n",
            "\u001b[1m1/1\u001b[0m \u001b[32m━━━━━━━━━━━━━━━━━━━━\u001b[0m\u001b[37m\u001b[0m \u001b[1m0s\u001b[0m 39ms/step - accuracy: 0.3125 - loss: 3.0487\n",
            "Epoch 4/50\n",
            "\u001b[1m1/1\u001b[0m \u001b[32m━━━━━━━━━━━━━━━━━━━━\u001b[0m\u001b[37m\u001b[0m \u001b[1m0s\u001b[0m 56ms/step - accuracy: 0.4375 - loss: 2.9854\n",
            "Epoch 5/50\n",
            "\u001b[1m1/1\u001b[0m \u001b[32m━━━━━━━━━━━━━━━━━━━━\u001b[0m\u001b[37m\u001b[0m \u001b[1m0s\u001b[0m 37ms/step - accuracy: 0.5469 - loss: 2.9173\n",
            "Epoch 6/50\n",
            "\u001b[1m1/1\u001b[0m \u001b[32m━━━━━━━━━━━━━━━━━━━━\u001b[0m\u001b[37m\u001b[0m \u001b[1m0s\u001b[0m 61ms/step - accuracy: 0.6094 - loss: 2.8426\n",
            "Epoch 7/50\n",
            "\u001b[1m1/1\u001b[0m \u001b[32m━━━━━━━━━━━━━━━━━━━━\u001b[0m\u001b[37m\u001b[0m \u001b[1m0s\u001b[0m 57ms/step - accuracy: 0.6406 - loss: 2.7594\n",
            "Epoch 8/50\n",
            "\u001b[1m1/1\u001b[0m \u001b[32m━━━━━━━━━━━━━━━━━━━━\u001b[0m\u001b[37m\u001b[0m \u001b[1m0s\u001b[0m 38ms/step - accuracy: 0.6406 - loss: 2.6673\n",
            "Epoch 9/50\n",
            "\u001b[1m1/1\u001b[0m \u001b[32m━━━━━━━━━━━━━━━━━━━━\u001b[0m\u001b[37m\u001b[0m \u001b[1m0s\u001b[0m 61ms/step - accuracy: 0.6406 - loss: 2.5673\n",
            "Epoch 10/50\n",
            "\u001b[1m1/1\u001b[0m \u001b[32m━━━━━━━━━━━━━━━━━━━━\u001b[0m\u001b[37m\u001b[0m \u001b[1m0s\u001b[0m 61ms/step - accuracy: 0.6094 - loss: 2.4627\n",
            "Epoch 11/50\n",
            "\u001b[1m1/1\u001b[0m \u001b[32m━━━━━━━━━━━━━━━━━━━━\u001b[0m\u001b[37m\u001b[0m \u001b[1m0s\u001b[0m 58ms/step - accuracy: 0.5312 - loss: 2.3579\n",
            "Epoch 12/50\n",
            "\u001b[1m1/1\u001b[0m \u001b[32m━━━━━━━━━━━━━━━━━━━━\u001b[0m\u001b[37m\u001b[0m \u001b[1m0s\u001b[0m 39ms/step - accuracy: 0.5000 - loss: 2.2540\n",
            "Epoch 13/50\n",
            "\u001b[1m1/1\u001b[0m \u001b[32m━━━━━━━━━━━━━━━━━━━━\u001b[0m\u001b[37m\u001b[0m \u001b[1m0s\u001b[0m 38ms/step - accuracy: 0.5000 - loss: 2.1471\n",
            "Epoch 14/50\n",
            "\u001b[1m1/1\u001b[0m \u001b[32m━━━━━━━━━━━━━━━━━━━━\u001b[0m\u001b[37m\u001b[0m \u001b[1m0s\u001b[0m 58ms/step - accuracy: 0.5625 - loss: 2.0336\n",
            "Epoch 15/50\n",
            "\u001b[1m1/1\u001b[0m \u001b[32m━━━━━━━━━━━━━━━━━━━━\u001b[0m\u001b[37m\u001b[0m \u001b[1m0s\u001b[0m 50ms/step - accuracy: 0.6719 - loss: 1.9157\n",
            "Epoch 16/50\n",
            "\u001b[1m1/1\u001b[0m \u001b[32m━━━━━━━━━━━━━━━━━━━━\u001b[0m\u001b[37m\u001b[0m \u001b[1m0s\u001b[0m 50ms/step - accuracy: 0.6875 - loss: 1.7997\n",
            "Epoch 17/50\n",
            "\u001b[1m1/1\u001b[0m \u001b[32m━━━━━━━━━━━━━━━━━━━━\u001b[0m\u001b[37m\u001b[0m \u001b[1m0s\u001b[0m 72ms/step - accuracy: 0.7500 - loss: 1.6908\n",
            "Epoch 18/50\n",
            "\u001b[1m1/1\u001b[0m \u001b[32m━━━━━━━━━━━━━━━━━━━━\u001b[0m\u001b[37m\u001b[0m \u001b[1m0s\u001b[0m 41ms/step - accuracy: 0.7656 - loss: 1.5896\n",
            "Epoch 19/50\n",
            "\u001b[1m1/1\u001b[0m \u001b[32m━━━━━━━━━━━━━━━━━━━━\u001b[0m\u001b[37m\u001b[0m \u001b[1m0s\u001b[0m 45ms/step - accuracy: 0.7500 - loss: 1.4945\n",
            "Epoch 20/50\n",
            "\u001b[1m1/1\u001b[0m \u001b[32m━━━━━━━━━━━━━━━━━━━━\u001b[0m\u001b[37m\u001b[0m \u001b[1m0s\u001b[0m 34ms/step - accuracy: 0.7656 - loss: 1.4042\n",
            "Epoch 21/50\n",
            "\u001b[1m1/1\u001b[0m \u001b[32m━━━━━━━━━━━━━━━━━━━━\u001b[0m\u001b[37m\u001b[0m \u001b[1m0s\u001b[0m 31ms/step - accuracy: 0.7969 - loss: 1.3180\n",
            "Epoch 22/50\n",
            "\u001b[1m1/1\u001b[0m \u001b[32m━━━━━━━━━━━━━━━━━━━━\u001b[0m\u001b[37m\u001b[0m \u001b[1m0s\u001b[0m 61ms/step - accuracy: 0.8125 - loss: 1.2347\n",
            "Epoch 23/50\n",
            "\u001b[1m1/1\u001b[0m \u001b[32m━━━━━━━━━━━━━━━━━━━━\u001b[0m\u001b[37m\u001b[0m \u001b[1m0s\u001b[0m 51ms/step - accuracy: 0.8125 - loss: 1.1533\n",
            "Epoch 24/50\n",
            "\u001b[1m1/1\u001b[0m \u001b[32m━━━━━━━━━━━━━━━━━━━━\u001b[0m\u001b[37m\u001b[0m \u001b[1m0s\u001b[0m 57ms/step - accuracy: 0.8438 - loss: 1.0737\n",
            "Epoch 25/50\n",
            "\u001b[1m1/1\u001b[0m \u001b[32m━━━━━━━━━━━━━━━━━━━━\u001b[0m\u001b[37m\u001b[0m \u001b[1m0s\u001b[0m 34ms/step - accuracy: 0.8750 - loss: 0.9973\n",
            "Epoch 26/50\n",
            "\u001b[1m1/1\u001b[0m \u001b[32m━━━━━━━━━━━━━━━━━━━━\u001b[0m\u001b[37m\u001b[0m \u001b[1m0s\u001b[0m 32ms/step - accuracy: 0.9062 - loss: 0.9251\n",
            "Epoch 27/50\n",
            "\u001b[1m1/1\u001b[0m \u001b[32m━━━━━━━━━━━━━━━━━━━━\u001b[0m\u001b[37m\u001b[0m \u001b[1m0s\u001b[0m 58ms/step - accuracy: 0.9219 - loss: 0.8574\n",
            "Epoch 28/50\n",
            "\u001b[1m1/1\u001b[0m \u001b[32m━━━━━━━━━━━━━━━━━━━━\u001b[0m\u001b[37m\u001b[0m \u001b[1m0s\u001b[0m 59ms/step - accuracy: 0.9219 - loss: 0.7931\n",
            "Epoch 29/50\n",
            "\u001b[1m1/1\u001b[0m \u001b[32m━━━━━━━━━━━━━━━━━━━━\u001b[0m\u001b[37m\u001b[0m \u001b[1m0s\u001b[0m 33ms/step - accuracy: 0.9688 - loss: 0.7319\n",
            "Epoch 30/50\n",
            "\u001b[1m1/1\u001b[0m \u001b[32m━━━━━━━━━━━━━━━━━━━━\u001b[0m\u001b[37m\u001b[0m \u001b[1m0s\u001b[0m 57ms/step - accuracy: 0.9688 - loss: 0.6741\n",
            "Epoch 31/50\n",
            "\u001b[1m1/1\u001b[0m \u001b[32m━━━━━━━━━━━━━━━━━━━━\u001b[0m\u001b[37m\u001b[0m \u001b[1m0s\u001b[0m 32ms/step - accuracy: 0.9688 - loss: 0.6204\n",
            "Epoch 32/50\n",
            "\u001b[1m1/1\u001b[0m \u001b[32m━━━━━━━━━━━━━━━━━━━━\u001b[0m\u001b[37m\u001b[0m \u001b[1m0s\u001b[0m 61ms/step - accuracy: 0.9844 - loss: 0.5708\n",
            "Epoch 33/50\n",
            "\u001b[1m1/1\u001b[0m \u001b[32m━━━━━━━━━━━━━━━━━━━━\u001b[0m\u001b[37m\u001b[0m \u001b[1m0s\u001b[0m 53ms/step - accuracy: 0.9844 - loss: 0.5250\n",
            "Epoch 34/50\n",
            "\u001b[1m1/1\u001b[0m \u001b[32m━━━━━━━━━━━━━━━━━━━━\u001b[0m\u001b[37m\u001b[0m \u001b[1m0s\u001b[0m 62ms/step - accuracy: 0.9844 - loss: 0.4827\n",
            "Epoch 35/50\n",
            "\u001b[1m1/1\u001b[0m \u001b[32m━━━━━━━━━━━━━━━━━━━━\u001b[0m\u001b[37m\u001b[0m \u001b[1m0s\u001b[0m 71ms/step - accuracy: 0.9844 - loss: 0.4434\n",
            "Epoch 36/50\n",
            "\u001b[1m1/1\u001b[0m \u001b[32m━━━━━━━━━━━━━━━━━━━━\u001b[0m\u001b[37m\u001b[0m \u001b[1m0s\u001b[0m 62ms/step - accuracy: 0.9844 - loss: 0.4069\n",
            "Epoch 37/50\n",
            "\u001b[1m1/1\u001b[0m \u001b[32m━━━━━━━━━━━━━━━━━━━━\u001b[0m\u001b[37m\u001b[0m \u001b[1m0s\u001b[0m 61ms/step - accuracy: 1.0000 - loss: 0.3731\n",
            "Epoch 38/50\n",
            "\u001b[1m1/1\u001b[0m \u001b[32m━━━━━━━━━━━━━━━━━━━━\u001b[0m\u001b[37m\u001b[0m \u001b[1m0s\u001b[0m 140ms/step - accuracy: 1.0000 - loss: 0.3420\n",
            "Epoch 39/50\n",
            "\u001b[1m1/1\u001b[0m \u001b[32m━━━━━━━━━━━━━━━━━━━━\u001b[0m\u001b[37m\u001b[0m \u001b[1m0s\u001b[0m 59ms/step - accuracy: 1.0000 - loss: 0.3136\n",
            "Epoch 40/50\n",
            "\u001b[1m1/1\u001b[0m \u001b[32m━━━━━━━━━━━━━━━━━━━━\u001b[0m\u001b[37m\u001b[0m \u001b[1m0s\u001b[0m 66ms/step - accuracy: 1.0000 - loss: 0.2879\n",
            "Epoch 41/50\n",
            "\u001b[1m1/1\u001b[0m \u001b[32m━━━━━━━━━━━━━━━━━━━━\u001b[0m\u001b[37m\u001b[0m \u001b[1m0s\u001b[0m 132ms/step - accuracy: 1.0000 - loss: 0.2643\n",
            "Epoch 42/50\n",
            "\u001b[1m1/1\u001b[0m \u001b[32m━━━━━━━━━━━━━━━━━━━━\u001b[0m\u001b[37m\u001b[0m \u001b[1m0s\u001b[0m 56ms/step - accuracy: 1.0000 - loss: 0.2427\n",
            "Epoch 43/50\n",
            "\u001b[1m1/1\u001b[0m \u001b[32m━━━━━━━━━━━━━━━━━━━━\u001b[0m\u001b[37m\u001b[0m \u001b[1m0s\u001b[0m 68ms/step - accuracy: 1.0000 - loss: 0.2229\n",
            "Epoch 44/50\n",
            "\u001b[1m1/1\u001b[0m \u001b[32m━━━━━━━━━━━━━━━━━━━━\u001b[0m\u001b[37m\u001b[0m \u001b[1m0s\u001b[0m 59ms/step - accuracy: 1.0000 - loss: 0.2050\n",
            "Epoch 45/50\n",
            "\u001b[1m1/1\u001b[0m \u001b[32m━━━━━━━━━━━━━━━━━━━━\u001b[0m\u001b[37m\u001b[0m \u001b[1m0s\u001b[0m 71ms/step - accuracy: 1.0000 - loss: 0.1889\n",
            "Epoch 46/50\n",
            "\u001b[1m1/1\u001b[0m \u001b[32m━━━━━━━━━━━━━━━━━━━━\u001b[0m\u001b[37m\u001b[0m \u001b[1m0s\u001b[0m 131ms/step - accuracy: 1.0000 - loss: 0.1744\n",
            "Epoch 47/50\n",
            "\u001b[1m1/1\u001b[0m \u001b[32m━━━━━━━━━━━━━━━━━━━━\u001b[0m\u001b[37m\u001b[0m \u001b[1m0s\u001b[0m 61ms/step - accuracy: 1.0000 - loss: 0.1614\n",
            "Epoch 48/50\n",
            "\u001b[1m1/1\u001b[0m \u001b[32m━━━━━━━━━━━━━━━━━━━━\u001b[0m\u001b[37m\u001b[0m \u001b[1m0s\u001b[0m 46ms/step - accuracy: 1.0000 - loss: 0.1495\n",
            "Epoch 49/50\n",
            "\u001b[1m1/1\u001b[0m \u001b[32m━━━━━━━━━━━━━━━━━━━━\u001b[0m\u001b[37m\u001b[0m \u001b[1m0s\u001b[0m 65ms/step - accuracy: 1.0000 - loss: 0.1387\n",
            "Epoch 50/50\n",
            "\u001b[1m1/1\u001b[0m \u001b[32m━━━━━━━━━━━━━━━━━━━━\u001b[0m\u001b[37m\u001b[0m \u001b[1m0s\u001b[0m 67ms/step - accuracy: 1.0000 - loss: 0.1288\n"
          ]
        },
        {
          "output_type": "execute_result",
          "data": {
            "text/plain": [
              "<keras.src.callbacks.history.History at 0x786ed98a9db0>"
            ]
          },
          "metadata": {},
          "execution_count": 22
        }
      ]
    },
    {
      "cell_type": "code",
      "source": [
        "def generate_text(seed_text, num_chars):\n",
        "  for _ in range(num_chars):\n",
        "# Convert seed_text to integer sequences\n",
        "    input_seq = [char_to_idx[char] for char in seed_text[-sequence_length:]]\n",
        "    input_seq = np.reshape(input_seq, (1, sequence_length))\n",
        "# Predict the next character\n",
        "    predicted = model.predict(input_seq, verbose=0)\n",
        "    predicted_char = idx_to_char[np.argmax(predicted)]\n",
        "# Add the predicted character to the seed text\n",
        "    seed_text += predicted_char\n",
        "  return seed_text\n"
      ],
      "metadata": {
        "id": "eSZjZ9RLhkFt"
      },
      "execution_count": null,
      "outputs": []
    },
    {
      "cell_type": "code",
      "source": [
        "# Generate new text\n",
        "seed = \"This is a \"\n",
        "generated_text = generate_text(seed, 500)\n",
        "print(generated_text)\n"
      ],
      "metadata": {
        "colab": {
          "base_uri": "https://localhost:8080/"
        },
        "id": "JECbTYT7iVg8",
        "outputId": "4a6ce5d0-a55c-4f20-b064-93c9bd6a8fa8"
      },
      "execution_count": null,
      "outputs": [
        {
          "output_type": "stream",
          "name": "stdout",
          "text": [
            "This is a sample text for language modeling. We'll use it to train an RNN. utd laate in mod.naan. We'eo.nse in teeerain  naaNN. e  o. it t  te in Rn  nain ane mo. uing. Weeli use ialt  tr ln in RN  rul   a  l to  te loan  an lNene ie  oanrain   eeeN. e   l ate    lot.aa   ageaN.   telt.te  l  oaen   o  e.ne at  laneat.  moeet.ng  We aaeeg  t x. ang l xgelde lo gr og mo tg nee W an  oa. iine  o.el  ge teeto ls inaan lrpl N.e lo toate at aN .eate l ntet.a mo e aag. W  uldnse i  to'erain aneeNN. ut ol ate ia\n"
          ]
        }
      ]
    }
  ]
}